{
  "cells": [
    {
      "cell_type": "markdown",
      "metadata": {
        "id": "0M85FqWW4UOf"
      },
      "source": [
        "# Homework 1"
      ]
    },
    {
      "cell_type": "code",
      "source": [
        "!git clone https://github.com/ucsd-cse151a-w24/hw1.git"
      ],
      "metadata": {
        "id": "iLJmolwOKiyz"
      },
      "execution_count": null,
      "outputs": []
    },
    {
      "cell_type": "markdown",
      "metadata": {
        "id": "ypWSjqW34UOi"
      },
      "source": [
        "In this assignment, we will be exploring the car dataset and analyzing their fuel efficiency. <br >\n",
        "Specifically, we will do some exploratory analysis with visualizations, then we will build a model for Simple Linear Regression, a model for Polynomial Regression, and one model for Logistic Regression. <br >\n",
        "**The given dataset is already modified and cleaned**, but you can find [the original information here.](https://archive.ics.uci.edu/ml/datasets/auto+mpg).\n",
        "\n",
        "## Dataset Attribute Information\n",
        "\n",
        "1. **mpg**: Miles per gallon. This is one primary measurement for car fuel efficiency.\n",
        "2. **displacement** : The cylinder volumes in cubic inches.\n",
        "3. **horsepower** : Engine power.\n",
        "4. **weight** : In pounds.\n",
        "5. **acceleration** : The elapsed time in seconds to go from 0 to 60mph.\n",
        "6. **origin** : Region of origin.\n",
        "\n",
        "### Libraries that can be used: numpy, pandas, scikit-learn, seaborn, plotly, matplotlib\n",
        "Any libraries used in the discussion materials are also allowed.\n",
        "\n",
        "#### Other Notes\n",
        " - Don't worry about not being able to achieve high accuracy, it is neither the goal nor the grading standard of **this** assignment. <br >\n",
        " - If not specified, you are not required to do hyperparameter tuning, but feel free to do so if you'd like.\n",
        " - Discussion materials should be helpful for doing the assignments."
      ]
    },
    {
      "cell_type": "markdown",
      "metadata": {
        "id": "VgBn1i5A4UOl"
      },
      "source": [
        "# Exercises\n",
        "## Exercise 1 - Exploratory Analysis (20 points in total)"
      ]
    },
    {
      "cell_type": "markdown",
      "metadata": {
        "id": "NHLCLH7D4UOn"
      },
      "source": [
        "### Exercise 1.1 - Correlation Matrix (10 points)\n",
        "Generate a Pearson [correlation matrix plot](https://heartbeat.fritz.ai/seaborn-heatmaps-13-ways-to-customize-correlation-matrix-visualizations-f1c49c816f07) in the form of a heatmap. See the link to have an idea about what this visualization should look like. <br >\n",
        "After generating the plot, answer the following question: <br >\n",
        "**If we are going to predict ``mpg`` in Simple Linear Regression(i.e., $y=ax+b$), which attribute are you most UNLIKELY to pick as the independent variable? Explain why.**\n",
        "\n",
        "Requirements & notes\n",
        " - When computing correlation, make sure to drop the column ``origin`` to avoid errors.\n",
        " - The computed correlation values should be shown on the plot.\n",
        " - Use a diverging color scale with the color range being \\[-1, 1\\] and center being 0 (if applicable)."
      ]
    },
    {
      "cell_type": "code",
      "execution_count": null,
      "metadata": {
        "id": "gSRH73Ud4UOo"
      },
      "outputs": [],
      "source": []
    },
    {
      "cell_type": "markdown",
      "metadata": {
        "id": "lpLx4OUv4UOr"
      },
      "source": [
        "### Exercise 1.2 - Pairplot (10 points)\n",
        "Generate a pairplot(a.k.a. scatter plot matrix) of the given dataset. <br >\n",
        "After generating the plot, answer the following question: <br >\n",
        "**If we are using ``horsepower`` to predict ``mpg``, which method could lead to the best performance? (Linear Regression, Polynomial Regression, or Logistic Regression) Explain why.**\n",
        "\n",
        "Note that there is no requirement on the diagonals. You can leave empty or use other representations based on your preference. However, having ``origin``-based grouped data distributions on the diagonals effectively helps you answer some questions in the later exercises.   \n",
        "\n",
        "Requirements\n",
        " - The points should be colored based on the column ``origin``."
      ]
    },
    {
      "cell_type": "code",
      "execution_count": null,
      "metadata": {
        "id": "T2xzXSp_4UOs"
      },
      "outputs": [],
      "source": []
    },
    {
      "cell_type": "markdown",
      "metadata": {
        "id": "Wespq6wO4UOt"
      },
      "source": [
        "## Exercise 2 - Linear and Polynomial Regression (40 points in total)\n",
        "\n",
        "### Exercise 2.1 - Splitting Dataset (5 points)\n",
        "Split the data into training and testing set with the ratio of 80:20."
      ]
    },
    {
      "cell_type": "code",
      "execution_count": null,
      "metadata": {
        "id": "F758NS_U4UOv"
      },
      "outputs": [],
      "source": []
    },
    {
      "cell_type": "markdown",
      "metadata": {
        "id": "HygEGqdl4UOx"
      },
      "source": [
        "### Exercise 2.2 - Simple Linear Regression (10 points)\n",
        "Using one of the other attributes(excluding ``origin``) by your choice, please build a simple linear regression model that predicts ``mpg``. <br >\n",
        "\n",
        "Requirements\n",
        " - Report the testing MSE error."
      ]
    },
    {
      "cell_type": "code",
      "execution_count": null,
      "metadata": {
        "id": "cexj_Ls84UOy"
      },
      "outputs": [],
      "source": []
    },
    {
      "cell_type": "markdown",
      "metadata": {
        "id": "0-Z3InZc4UOz"
      },
      "source": [
        "### Exercise 2.3 - Polynomial Regression (25 points)\n",
        "Build polynomial regression models that predict ``mpg`` with the same choice in 2.2. <br >\n",
        "Specifically, from degree=2 to degree=4, build one respectively. <br >\n",
        "Then, based on the reported errors from only these three degrees, **do you think there is a sign of overfitting? Provide your reasoning.**\n",
        "\n",
        "\n",
        "Requirements\n",
        " - Report the training MSE error for each of the three degrees.\n",
        " - Report the testing MSE error for each of the three degrees.\n"
      ]
    },
    {
      "cell_type": "code",
      "execution_count": null,
      "metadata": {
        "id": "Os07ZhwK4UO0"
      },
      "outputs": [],
      "source": []
    },
    {
      "cell_type": "markdown",
      "metadata": {
        "id": "P8VS2nTr4UO0"
      },
      "source": [
        "## Exercise 3 - Logistic Regression (35 points in total)\n",
        "\n",
        "Now we are going to build a classification model on ``origin`` using all the other 5 attributes. <br >\n",
        "Note that Logistic Regression is a binary classificaiton algorithm.\n",
        "\n",
        "### Exercise 3.1 - Processing and Splitting the Dataset (5 points)\n",
        "In this exercise 3, we only consider those observations where they originate from either \"USA\" or \"Japan\". <br >\n",
        "So please **remove** those observations that originate from \"Europe\". <br >\n",
        "And then, split the data into training and testing set with the ratio of 80:20. <br >\n"
      ]
    },
    {
      "cell_type": "code",
      "execution_count": null,
      "metadata": {
        "id": "VUDiX_ID4UO0"
      },
      "outputs": [],
      "source": []
    },
    {
      "cell_type": "markdown",
      "metadata": {
        "id": "Sj2_I9Ze4UO1"
      },
      "source": [
        "### Exercise 3.2 - Logistic Regression (20 points)\n",
        "\n",
        "Using all the other 5 attributes, please build a Logistic Regression model that distinguishes between cars from Japan and cars from the USA. <br >\n",
        "Then, **if we are distinguishing between Japan and Europe this time, how do you think the model performance(in terms of accuracy) will change? Provide your reasoning.**\n",
        "\n",
        "Requirements\n",
        " - Report the testing precision and recall for both regions."
      ]
    },
    {
      "cell_type": "code",
      "execution_count": null,
      "metadata": {
        "id": "qgZbyEoi4UO1"
      },
      "outputs": [],
      "source": []
    },
    {
      "cell_type": "markdown",
      "metadata": {
        "id": "ftTdFoDv4UO2"
      },
      "source": [
        "### Exercise 3.3 - Model coefficients (10 points)\n",
        "\n",
        "Using all the attributes used in 3.2, plot the model coefficients in a scatter plot as shown in class. Explain the contribution of the top 3 coefficients, and interpret their meaning and their contribution to the $\\hat{y}$ prediction. Example can be found [here](https://quantifyinghealth.com/interpret-logistic-regression-coefficients/)"
      ]
    },
    {
      "cell_type": "code",
      "execution_count": null,
      "metadata": {
        "id": "fI4GW06f4UO2"
      },
      "outputs": [],
      "source": []
    },
    {
      "cell_type": "markdown",
      "metadata": {
        "id": "Bdtir6dQ4UO3"
      },
      "source": [
        "## Exercise 4 - Collaborative Statement (5 points)\n",
        "\n",
        "It is mandatory to include a Statement of Collaboration in each submission, that follows the guidelines below.\n",
        "Include the names of everyone involved in the discussions (especially in-person ones), and what was discussed.\n",
        "All students are required to follow the academic honesty guidelines posted on the course website. For\n",
        "programming assignments in particular, I encourage students to organize (perhaps using Piazza) to discuss the\n",
        "task descriptions, requirements, possible bugs in the support code, and the relevant technical content before they\n",
        "start working on it. However, you should not discuss the specific solutions, and as a guiding principle, you are\n",
        "not allowed to take anything written or drawn away from these discussions (no photographs of the blackboard,\n",
        "written notes, referring to Piazza, etc.). Especially after you have started working on the assignment, try to restrict\n",
        "the discussion to Piazza as much as possible, so that there is no doubt as to the extent of your collaboration."
      ]
    },
    {
      "cell_type": "code",
      "execution_count": null,
      "metadata": {
        "id": "sDqSlcm14UO3"
      },
      "outputs": [],
      "source": []
    }
  ],
  "metadata": {
    "kernelspec": {
      "display_name": "Python 3 (ipykernel)",
      "language": "python",
      "name": "python3"
    },
    "language_info": {
      "codemirror_mode": {
        "name": "ipython",
        "version": 3
      },
      "file_extension": ".py",
      "mimetype": "text/x-python",
      "name": "python",
      "nbconvert_exporter": "python",
      "pygments_lexer": "ipython3",
      "version": "3.8.10"
    },
    "colab": {
      "provenance": []
    }
  },
  "nbformat": 4,
  "nbformat_minor": 0
}